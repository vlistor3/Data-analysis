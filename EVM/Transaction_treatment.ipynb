{
 "cells": [
  {
   "cell_type": "code",
   "execution_count": 1,
   "metadata": {},
   "outputs": [],
   "source": [
    "#Import of all the necessary libraries\n",
    "import pandas as pd\n",
    "from shroomdk import ShroomDK\n",
    "import json\n",
    "import numpy as np\n",
    "import seaborn as sns\n",
    "from datetime import datetime\n",
    "from datetime import date\n",
    "from matplotlib import pyplot as plt"
   ]
  },
  {
   "cell_type": "code",
   "execution_count": 2,
   "metadata": {},
   "outputs": [],
   "source": [
    "#Import of the transactions file\n",
    "Df = pd.read_pickle(\"C:/Users/vlist/.vscode/GitHub/Data-analysis/EVMExport_DfTransfer.pkl\")"
   ]
  },
  {
   "cell_type": "code",
   "execution_count": 3,
   "metadata": {},
   "outputs": [],
   "source": [
    "#Flattening of the column containing the event data which is in a JSON format and then extraction of the value which corresponds to the amount of tokens transfered.\n",
    "Df[\"Value\"] = pd.json_normalize(Df[\"event_inputs\"])[\"value\"]\n",
    "#Modification of the Value column into a integer type\n",
    "Df[\"Value\"] = Df[\"Value\"].apply(int)\n",
    "#Adjustment of the value type to properly show the amount transfered\n",
    "Df[\"Value\"] = Df[\"Value\"]/pow(10, 18)\n",
    "#Change the type of Value into a float after the division\n",
    "Df = Df.astype({\"Value\":float})\n",
    "#Change the data type of the day into a datetime python type\n",
    "Df[\"day\"] = [datetime.strptime(x, '%Y-%m-%d %H:%M:%S.%f') for x in Df[\"day\"]]\n",
    "#We then keep only the day to simply \n",
    "Df[\"day\"] = [x.date() for x in Df[\"day\"]]\n",
    "Df[\"day\"] = [datetime.fromisoformat(str(x)) for x in Df[\"day\"]]\n",
    "#Df['Value']=[int(x) for x in Df['Value']]\n",
    "Df.info()\n",
    "#Df.head()"
   ]
  },
  {
   "cell_type": "code",
   "execution_count": null,
   "metadata": {},
   "outputs": [],
   "source": [
    "#Creation of a new dataframe containing only the dates and the amounts transfered\n",
    "Result = Df[[\"Value\", \"day\"]]\n",
    "#Regroup of the amounts by day (We do a sum as grouping function)\n",
    "Result = Result.groupby(\"day\")[\"Value\"].sum()\n",
    "#We then plot the amount transfered by day that we just created\n",
    "plt.figure(figsize=(15, 8))\n",
    "Result.plot()\n",
    "plt.show()"
   ]
  }
 ],
 "metadata": {
  "kernelspec": {
   "display_name": "Python 3",
   "language": "python",
   "name": "python3"
  },
  "language_info": {
   "codemirror_mode": {
    "name": "ipython",
    "version": 3
   },
   "file_extension": ".py",
   "mimetype": "text/x-python",
   "name": "python",
   "nbconvert_exporter": "python",
   "pygments_lexer": "ipython3",
   "version": "3.10.8"
  },
  "orig_nbformat": 4,
  "vscode": {
   "interpreter": {
    "hash": "bfe7c5126b8796758a40eaf9e8997494b4c3174639be309e5ec512b928ed8815"
   }
  }
 },
 "nbformat": 4,
 "nbformat_minor": 2
}
