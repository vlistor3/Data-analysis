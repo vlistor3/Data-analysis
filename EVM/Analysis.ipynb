{
 "cells": [
  {
   "cell_type": "code",
   "execution_count": 1,
   "metadata": {},
   "outputs": [],
   "source": [
    "import pandas as pd\n",
    "import copy"
   ]
  },
  {
   "cell_type": "code",
   "execution_count": 2,
   "metadata": {},
   "outputs": [],
   "source": [
    "Df = pd.read_pickle(\"C:/Users/vlist/.vscode/GitHub/Data-analysis/EVMExport_Df.pkl\")"
   ]
  },
  {
   "cell_type": "code",
   "execution_count": 3,
   "metadata": {},
   "outputs": [
    {
     "data": {
      "text/plain": [
       "array(['Transfer', 'DelegateVotesChanged', 'Approval', 'DelegateChanged',\n",
       "       None, 'OwnershipTransferred'], dtype=object)"
      ]
     },
     "execution_count": 3,
     "metadata": {},
     "output_type": "execute_result"
    }
   ],
   "source": [
    "Df.event_name.unique()"
   ]
  },
  {
   "cell_type": "code",
   "execution_count": 4,
   "metadata": {},
   "outputs": [
    {
     "name": "stdout",
     "output_type": "stream",
     "text": [
      "Filtering Df_Transfer DataFrame\n",
      "Saving DataFrame\n",
      "Filtering Df_DelegateVotesChanged DataFrame\n",
      "Saving DataFrame\n",
      "Filtering Df_Approval DataFrame\n",
      "Saving DataFrame\n",
      "Filtering Df_DelegateChanged DataFrame\n",
      "Saving DataFrame\n",
      "Filtering Df_None DataFrame\n",
      "Saving DataFrame\n",
      "Filtering Df_OwnershipTransferred DataFrame\n",
      "Saving DataFrame\n"
     ]
    }
   ],
   "source": [
    "for x in Df.event_name.unique():\n",
    "    Df_name = f\"Df_{x}\"\n",
    "    print(f\"Filtering {Df_name} DataFrame\")\n",
    "    Df_name = Df[Df[\"event_name\"]==x]\n",
    "    print(f\"Saving DataFrame\")\n",
    "    Df_name.to_pickle(f\"C:/Users/vlist/.vscode/GitHub/Data-analysis/EVMExport_Df{x}.pkl\")"
   ]
  },
  {
   "cell_type": "code",
   "execution_count": null,
   "metadata": {},
   "outputs": [],
   "source": []
  }
 ],
 "metadata": {
  "kernelspec": {
   "display_name": "Python 3",
   "language": "python",
   "name": "python3"
  },
  "language_info": {
   "codemirror_mode": {
    "name": "ipython",
    "version": 3
   },
   "file_extension": ".py",
   "mimetype": "text/x-python",
   "name": "python",
   "nbconvert_exporter": "python",
   "pygments_lexer": "ipython3",
   "version": "3.9.0"
  },
  "orig_nbformat": 4,
  "vscode": {
   "interpreter": {
    "hash": "4410c3bfed003eebaee0c22e04b534c772e97900ef5ee07a66555fe428094862"
   }
  }
 },
 "nbformat": 4,
 "nbformat_minor": 2
}
